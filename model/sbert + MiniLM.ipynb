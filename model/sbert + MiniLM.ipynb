{
 "cells": [
  {
   "cell_type": "code",
   "execution_count": null,
   "id": "e6ff7969",
   "metadata": {
    "tags": []
   },
   "outputs": [],
   "source": [
    "import pandas as pd\n",
    "import numpy as np\n",
    "from numpy import array\n",
    "import os\n",
    "import re\n",
    "import nltk\n",
    "import random\n",
    "from nltk.stem import WordNetLemmatizer\n",
    "nltk.download('wordnet')\n",
    "nltk.download('omw-1.4')\n",
    "from nltk.tokenize import word_tokenize\n",
    "nltk.download('punkt')\n",
    "\n",
    "# Data visualization\n",
    "import matplotlib.pyplot as plt\n",
    "\n",
    "from tensorflow.keras.optimizers import Adam\n",
    "from tensorflow import keras\n",
    "from tensorflow.keras import layers\n",
    "from tensorflow.keras.preprocessing.text import Tokenizer\n",
    "from tensorflow.keras.preprocessing.sequence import pad_sequences\n",
    "from tensorflow.keras.layers import Dense, Flatten, Embedding, Activation, Dropout\n",
    "from tensorflow.keras.layers import Conv1D, MaxPooling1D, GlobalMaxPooling1D\n",
    "\n",
    "from sklearn.model_selection import train_test_split"
   ]
  },
  {
   "cell_type": "code",
   "execution_count": 2,
   "id": "65ab9f5e",
   "metadata": {
    "tags": []
   },
   "outputs": [],
   "source": [
    "import warnings\n",
    "warnings.filterwarnings('ignore')"
   ]
  },
  {
   "cell_type": "code",
   "execution_count": 3,
   "id": "ee0b1141",
   "metadata": {
    "tags": []
   },
   "outputs": [],
   "source": [
    "def get_rand(string):\n",
    "    new_string = ''\n",
    "    string = string.rstrip()\n",
    "    string_split = string.split(' ')\n",
    "    num_1 = random.randint(0, len(string_split))\n",
    "    num_2 = random.randint(0, len(string_split))\n",
    "    \n",
    "    if num_1 > num_2 and num_1 - num_2 > 5:\n",
    "        num_3 = random.randint(0, 5)\n",
    "        for x in range(num_2, num_2 + num_3):\n",
    "            new_string += string_split[x] + ' '\n",
    "    \n",
    "    elif num_2 > num_1 and num_2 - num_1 > 5:\n",
    "        num_3 = random.randint(0, 5)\n",
    "        for x in range(num_1, num_1 + num_3):\n",
    "            new_string += string_split[x] + ' '\n",
    "            \n",
    "    elif num_1 > num_2:\n",
    "        for x in range(num_2, num_1):\n",
    "            new_string += string_split[x] + ' '\n",
    "    elif num_1 > num_2:\n",
    "        for x in range(num_1, num_2):\n",
    "            new_string += string_split[x] + ' '\n",
    "    \n",
    "    new_string = new_string.rstrip()\n",
    "    \n",
    "    if new_string == '':\n",
    "        new_string += string_split[random.randint(0, len(string_split)-1)]\n",
    "    \n",
    "\n",
    "    return new_string"
   ]
  },
  {
   "cell_type": "code",
   "execution_count": 4,
   "id": "bd46e531",
   "metadata": {
    "tags": []
   },
   "outputs": [],
   "source": [
    "def get_csv(file_in, file_out):\n",
    "    xml_data = open(file_in, 'r', encoding=\"utf8\").read()  # Read file\n",
    "    splits = xml_data.split(\"<definition>\")[1]\n",
    "\n",
    "    defs = splits.split(\"</definition>\")[0]\n",
    "    \n",
    "    true_splits = defs.split(\"\\n\")\n",
    "    \n",
    "    true_defs = []\n",
    "    for x in true_splits:\n",
    "        if '&lt;ex&gt' in x:\n",
    "            true_defs.append(x) \n",
    "    \n",
    "    for test in true_defs:     \n",
    "        c_test = []\n",
    "\n",
    "        test_s = test.split(\";\")\n",
    "        for x in test_s:\n",
    "            if (x.strip() == \"&lt\" or x.strip() == \"ex&gt\" or x.strip() == \"/fex&gt\" or x.strip() == \"/fex&gt\" or x.strip() == \"&lt\" \n",
    "                or x.strip() == \"ex&gt\" or x.strip() == \"/fex&gt\" or x.strip() == \"&lt\" or x.strip() == \"/ex&gt\" or x.strip() == '/t&gt'\n",
    "               or x.strip() == '' or x.strip() == '/def-root&gt'):\n",
    "                pass\n",
    "            elif x.strip() == 't&gt':\n",
    "                c_test.append('lu = \"Frame\"')\n",
    "            else:\n",
    "                c_test.append(x.replace('fex name=', 'lu = '))\n",
    "        final = []\n",
    "        for x in c_test:\n",
    "            x = x.replace('/m&gt', ' ')\n",
    "            x = x.replace('m&gt', ' ')\n",
    "            x = x.replace('&gt', '')\n",
    "            x = x.replace('&lt', '')\n",
    "            final.append(x)\n",
    "        \n",
    "        filetxt = str(file_in).replace(\"<DirEntry '\", '')\n",
    "        filetxt = filetxt.replace(\".xml'>\", ',')\n",
    "        \n",
    "        file_out.write(filetxt)\n",
    "        file_out.write(create_csv_line(final))\n",
    "        file_out.write(\"\\n\")"
   ]
  },
  {
   "cell_type": "code",
   "execution_count": 5,
   "id": "5c3b29a8",
   "metadata": {
    "tags": []
   },
   "outputs": [],
   "source": [
    "def create_csv_line(final):\n",
    "    frame = ''\n",
    "    agent = ''\n",
    "    activity = ''\n",
    "    string = ''\n",
    "    other = ''\n",
    "    for x in final:\n",
    "        if 'lu = ' in x:\n",
    "            string += ' '\n",
    "        else:\n",
    "            string += x\n",
    "    string = string.strip()\n",
    "    count = 0\n",
    "    for x in final:\n",
    "        if 'lu = ' in x:\n",
    "            x = x.replace('lu = ', '')\n",
    "            if x == '\"Frame\"':\n",
    "                frame = final[count+1]\n",
    "            elif x == '\"Agent\"':\n",
    "                agent = final[count+1]\n",
    "            elif x == '\"Activity\"':\n",
    "                activity = final[count+1]\n",
    "        count += 1\n",
    "    string  = re.sub(r'[^\\w\\s]', ' ', string)\n",
    "    frame  = re.sub(r'[^\\w\\s]', ' ', frame)\n",
    "    agent  = re.sub(r'[^\\w\\s]', ' ', agent)\n",
    "    activity  = re.sub(r'[^\\w\\s]', ' ', activity)\n",
    "    \n",
    "    \n",
    "    \n",
    "    stringt = word_tokenize(string.lower())\n",
    "    string = ''\n",
    "    for word in stringt:\n",
    "        string += word_lemmatizer.lemmatize(word, \"v\") + ' '\n",
    "        \n",
    "    framet = word_tokenize(frame.lower())\n",
    "    frame = ''\n",
    "    for word in framet:\n",
    "        frame += word_lemmatizer.lemmatize(word, \"v\") + ' '\n",
    "        \n",
    "    agentt = word_tokenize(agent.lower())\n",
    "    agent = ''\n",
    "    for word in agentt:\n",
    "        agent += word_lemmatizer.lemmatize(word, \"v\") + ' '\n",
    "        \n",
    "    activityt = word_tokenize(activity.lower())\n",
    "    activity = ''\n",
    "    for word in activityt:\n",
    "        activity += word_lemmatizer.lemmatize(word, \"v\") + ' '\n",
    "         \n",
    "    \n",
    "    return string "
   ]
  },
  {
   "cell_type": "code",
   "execution_count": 30,
   "id": "2f72f6c6",
   "metadata": {
    "tags": []
   },
   "outputs": [],
   "source": [
    "directory = 'frame'\n",
    "word_lemmatizer = WordNetLemmatizer()\n",
    "\n",
    " \n",
    "with open(\"frames.txt\", mode = \"w\") as f:\n",
    "    f.write('fName, Text\\n')\n",
    "    for filename in os.scandir(directory):\n",
    "        if filename.is_file():\n",
    "            get_csv(filename, f)"
   ]
  },
  {
   "cell_type": "code",
   "execution_count": 123,
   "id": "11085c10",
   "metadata": {
    "tags": []
   },
   "outputs": [],
   "source": [
    "df = pd.read_csv('frames.txt', encoding=\"unicode_escape\")"
   ]
  },
  {
   "cell_type": "code",
   "execution_count": 124,
   "id": "0c5c5d94",
   "metadata": {
    "tags": []
   },
   "outputs": [
    {
     "data": {
      "text/plain": [
       "(2884, 2)"
      ]
     },
     "execution_count": 124,
     "metadata": {},
     "output_type": "execute_result"
    }
   ],
   "source": [
    "df.shape"
   ]
  },
  {
   "cell_type": "code",
   "execution_count": 125,
   "id": "c1879909",
   "metadata": {
    "tags": []
   },
   "outputs": [],
   "source": [
    "df = df.dropna()"
   ]
  },
  {
   "cell_type": "code",
   "execution_count": 126,
   "id": "39acb135",
   "metadata": {
    "tags": []
   },
   "outputs": [
    {
     "data": {
      "text/html": [
       "<div>\n",
       "<style scoped>\n",
       "    .dataframe tbody tr th:only-of-type {\n",
       "        vertical-align: middle;\n",
       "    }\n",
       "\n",
       "    .dataframe tbody tr th {\n",
       "        vertical-align: top;\n",
       "    }\n",
       "\n",
       "    .dataframe thead th {\n",
       "        text-align: right;\n",
       "    }\n",
       "</style>\n",
       "<table border=\"1\" class=\"dataframe\">\n",
       "  <thead>\n",
       "    <tr style=\"text-align: right;\">\n",
       "      <th></th>\n",
       "      <th>fName</th>\n",
       "      <th>Text</th>\n",
       "    </tr>\n",
       "  </thead>\n",
       "  <tbody>\n",
       "    <tr>\n",
       "      <th>1</th>\n",
       "      <td>Body_parts</td>\n",
       "      <td>he have to brace his right arm against his leg...</td>\n",
       "    </tr>\n",
       "    <tr>\n",
       "      <th>2</th>\n",
       "      <td>Body_parts</td>\n",
       "      <td>the dog measure its blond belly in the mud</td>\n",
       "    </tr>\n",
       "    <tr>\n",
       "      <th>5</th>\n",
       "      <td>Judgment</td>\n",
       "      <td>judgment she admire einstein for his character</td>\n",
       "    </tr>\n",
       "    <tr>\n",
       "      <th>6</th>\n",
       "      <td>Judgment</td>\n",
       "      <td>judgment_communication she accuse einstein of ...</td>\n",
       "    </tr>\n",
       "    <tr>\n",
       "      <th>8</th>\n",
       "      <td>Citing</td>\n",
       "      <td>the police have summons the wrong man dni</td>\n",
       "    </tr>\n",
       "  </tbody>\n",
       "</table>\n",
       "</div>"
      ],
      "text/plain": [
       "        fName                                               Text\n",
       "1  Body_parts  he have to brace his right arm against his leg...\n",
       "2  Body_parts        the dog measure its blond belly in the mud \n",
       "5    Judgment    judgment she admire einstein for his character \n",
       "6    Judgment  judgment_communication she accuse einstein of ...\n",
       "8      Citing         the police have summons the wrong man dni "
      ]
     },
     "execution_count": 126,
     "metadata": {},
     "output_type": "execute_result"
    }
   ],
   "source": [
    "df.head()"
   ]
  },
  {
   "cell_type": "code",
   "execution_count": 127,
   "id": "c6e2d543",
   "metadata": {
    "scrolled": true,
    "tags": []
   },
   "outputs": [
    {
     "data": {
      "text/plain": [
       "'the police have summons the wrong man dni '"
      ]
     },
     "execution_count": 127,
     "metadata": {},
     "output_type": "execute_result"
    }
   ],
   "source": [
    "df.iloc[4][1]"
   ]
  },
  {
   "cell_type": "code",
   "execution_count": 128,
   "id": "8e971347",
   "metadata": {
    "tags": []
   },
   "outputs": [],
   "source": [
    "df_data_v = pd.DataFrame(columns = ['A', 'B'])"
   ]
  },
  {
   "cell_type": "code",
   "execution_count": 129,
   "id": "2b833af2",
   "metadata": {
    "tags": []
   },
   "outputs": [],
   "source": [
    "df_data_iv = pd.DataFrame(columns = ['C', 'D'])"
   ]
  },
  {
   "cell_type": "code",
   "execution_count": 130,
   "id": "9418e134",
   "metadata": {
    "tags": []
   },
   "outputs": [
    {
     "data": {
      "text/html": [
       "<div>\n",
       "<style scoped>\n",
       "    .dataframe tbody tr th:only-of-type {\n",
       "        vertical-align: middle;\n",
       "    }\n",
       "\n",
       "    .dataframe tbody tr th {\n",
       "        vertical-align: top;\n",
       "    }\n",
       "\n",
       "    .dataframe thead th {\n",
       "        text-align: right;\n",
       "    }\n",
       "</style>\n",
       "<table border=\"1\" class=\"dataframe\">\n",
       "  <thead>\n",
       "    <tr style=\"text-align: right;\">\n",
       "      <th></th>\n",
       "      <th>fName</th>\n",
       "      <th>Text</th>\n",
       "    </tr>\n",
       "  </thead>\n",
       "  <tbody>\n",
       "    <tr>\n",
       "      <th>1</th>\n",
       "      <td>Body_parts</td>\n",
       "      <td>he have to brace his right arm against his leg...</td>\n",
       "    </tr>\n",
       "    <tr>\n",
       "      <th>2</th>\n",
       "      <td>Body_parts</td>\n",
       "      <td>the dog measure its blond belly in the mud</td>\n",
       "    </tr>\n",
       "    <tr>\n",
       "      <th>5</th>\n",
       "      <td>Judgment</td>\n",
       "      <td>judgment she admire einstein for his character</td>\n",
       "    </tr>\n",
       "    <tr>\n",
       "      <th>6</th>\n",
       "      <td>Judgment</td>\n",
       "      <td>judgment_communication she accuse einstein of ...</td>\n",
       "    </tr>\n",
       "    <tr>\n",
       "      <th>8</th>\n",
       "      <td>Citing</td>\n",
       "      <td>the police have summons the wrong man dni</td>\n",
       "    </tr>\n",
       "  </tbody>\n",
       "</table>\n",
       "</div>"
      ],
      "text/plain": [
       "        fName                                               Text\n",
       "1  Body_parts  he have to brace his right arm against his leg...\n",
       "2  Body_parts        the dog measure its blond belly in the mud \n",
       "5    Judgment    judgment she admire einstein for his character \n",
       "6    Judgment  judgment_communication she accuse einstein of ...\n",
       "8      Citing         the police have summons the wrong man dni "
      ]
     },
     "execution_count": 130,
     "metadata": {},
     "output_type": "execute_result"
    }
   ],
   "source": [
    "df.head()"
   ]
  },
  {
   "cell_type": "code",
   "execution_count": 131,
   "id": "53f94b87",
   "metadata": {
    "tags": []
   },
   "outputs": [
    {
     "name": "stdout",
     "output_type": "stream",
     "text": [
      "CPU times: user 3min 51s, sys: 72.6 ms, total: 3min 51s\n",
      "Wall time: 3min 51s\n"
     ]
    }
   ],
   "source": [
    "%%time\n",
    "\n",
    "for index, row in df.iterrows():\n",
    "    for index1, row1 in df.iterrows():\n",
    "        if row[0] == row1[0]:\n",
    "            df_data_v = df_data_v.append({'A':row[1], 'B':row1[1]}, ignore_index = True)"
   ]
  },
  {
   "cell_type": "code",
   "execution_count": 132,
   "id": "f813fe74",
   "metadata": {
    "tags": []
   },
   "outputs": [
    {
     "data": {
      "text/plain": [
       "(11163, 2)"
      ]
     },
     "execution_count": 132,
     "metadata": {},
     "output_type": "execute_result"
    }
   ],
   "source": [
    "df_data_v.shape"
   ]
  },
  {
   "cell_type": "code",
   "execution_count": 133,
   "id": "86659159",
   "metadata": {
    "tags": []
   },
   "outputs": [
    {
     "name": "stdout",
     "output_type": "stream",
     "text": [
      "CPU times: user 3min 16s, sys: 75.8 ms, total: 3min 16s\n",
      "Wall time: 3min 16s\n"
     ]
    }
   ],
   "source": [
    "%%time\n",
    "\n",
    "count = 0\n",
    "for index, row in df.iterrows():\n",
    "    for index1, row1 in df.iterrows():\n",
    "        if count >= 670:\n",
    "            if row[0] != row1[0]:\n",
    "                df_data_iv = df_data_iv.append({'C':row[1], 'D':row1[1]}, ignore_index = True)\n",
    "                count=0\n",
    "            else:\n",
    "                count += 1\n",
    "        else:\n",
    "            count+=1"
   ]
  },
  {
   "cell_type": "code",
   "execution_count": 134,
   "id": "17f0a901",
   "metadata": {
    "tags": []
   },
   "outputs": [
    {
     "data": {
      "text/plain": [
       "(10410, 2)"
      ]
     },
     "execution_count": 134,
     "metadata": {},
     "output_type": "execute_result"
    }
   ],
   "source": [
    "df_data_iv.shape"
   ]
  },
  {
   "cell_type": "code",
   "execution_count": 135,
   "id": "6e5030a7",
   "metadata": {
    "tags": []
   },
   "outputs": [
    {
     "name": "stdout",
     "output_type": "stream",
     "text": [
      "2583\n",
      "2583\n"
     ]
    }
   ],
   "source": [
    "print(len(pd.unique(df_data_v['B'])))\n",
    "print(len(pd.unique(df_data_iv['D'])))"
   ]
  },
  {
   "cell_type": "code",
   "execution_count": 136,
   "id": "cd33715b",
   "metadata": {
    "tags": []
   },
   "outputs": [
    {
     "data": {
      "text/html": [
       "<div>\n",
       "<style scoped>\n",
       "    .dataframe tbody tr th:only-of-type {\n",
       "        vertical-align: middle;\n",
       "    }\n",
       "\n",
       "    .dataframe tbody tr th {\n",
       "        vertical-align: top;\n",
       "    }\n",
       "\n",
       "    .dataframe thead th {\n",
       "        text-align: right;\n",
       "    }\n",
       "</style>\n",
       "<table border=\"1\" class=\"dataframe\">\n",
       "  <thead>\n",
       "    <tr style=\"text-align: right;\">\n",
       "      <th></th>\n",
       "      <th>A</th>\n",
       "      <th>B</th>\n",
       "    </tr>\n",
       "  </thead>\n",
       "  <tbody>\n",
       "    <tr>\n",
       "      <th>0</th>\n",
       "      <td>he have to brace his right arm against his leg...</td>\n",
       "      <td>he have to brace his right arm against his leg...</td>\n",
       "    </tr>\n",
       "    <tr>\n",
       "      <th>1</th>\n",
       "      <td>he have to brace his right arm against his leg...</td>\n",
       "      <td>the dog measure its blond belly in the mud</td>\n",
       "    </tr>\n",
       "    <tr>\n",
       "      <th>2</th>\n",
       "      <td>the dog measure its blond belly in the mud</td>\n",
       "      <td>he have to brace his right arm against his leg...</td>\n",
       "    </tr>\n",
       "    <tr>\n",
       "      <th>3</th>\n",
       "      <td>the dog measure its blond belly in the mud</td>\n",
       "      <td>the dog measure its blond belly in the mud</td>\n",
       "    </tr>\n",
       "    <tr>\n",
       "      <th>4</th>\n",
       "      <td>judgment she admire einstein for his character</td>\n",
       "      <td>judgment she admire einstein for his character</td>\n",
       "    </tr>\n",
       "  </tbody>\n",
       "</table>\n",
       "</div>"
      ],
      "text/plain": [
       "                                                   A  \\\n",
       "0  he have to brace his right arm against his leg...   \n",
       "1  he have to brace his right arm against his leg...   \n",
       "2        the dog measure its blond belly in the mud    \n",
       "3        the dog measure its blond belly in the mud    \n",
       "4    judgment she admire einstein for his character    \n",
       "\n",
       "                                                   B  \n",
       "0  he have to brace his right arm against his leg...  \n",
       "1        the dog measure its blond belly in the mud   \n",
       "2  he have to brace his right arm against his leg...  \n",
       "3        the dog measure its blond belly in the mud   \n",
       "4    judgment she admire einstein for his character   "
      ]
     },
     "execution_count": 136,
     "metadata": {},
     "output_type": "execute_result"
    }
   ],
   "source": [
    "df_data_v.head()"
   ]
  },
  {
   "cell_type": "code",
   "execution_count": 137,
   "id": "06c1469e",
   "metadata": {
    "tags": []
   },
   "outputs": [
    {
     "data": {
      "text/html": [
       "<div>\n",
       "<style scoped>\n",
       "    .dataframe tbody tr th:only-of-type {\n",
       "        vertical-align: middle;\n",
       "    }\n",
       "\n",
       "    .dataframe tbody tr th {\n",
       "        vertical-align: top;\n",
       "    }\n",
       "\n",
       "    .dataframe thead th {\n",
       "        text-align: right;\n",
       "    }\n",
       "</style>\n",
       "<table border=\"1\" class=\"dataframe\">\n",
       "  <thead>\n",
       "    <tr style=\"text-align: right;\">\n",
       "      <th></th>\n",
       "      <th>C</th>\n",
       "      <th>D</th>\n",
       "    </tr>\n",
       "  </thead>\n",
       "  <tbody>\n",
       "    <tr>\n",
       "      <th>0</th>\n",
       "      <td>he have to brace his right arm against his leg...</td>\n",
       "      <td>the banner be estimate in value at 500 cni</td>\n",
       "    </tr>\n",
       "    <tr>\n",
       "      <th>1</th>\n",
       "      <td>he have to brace his right arm against his leg...</td>\n",
       "      <td>diotrephes withstand john s word and would not...</td>\n",
       "    </tr>\n",
       "    <tr>\n",
       "      <th>2</th>\n",
       "      <td>he have to brace his right arm against his leg...</td>\n",
       "      <td>the part i vividly remember be about a south s...</td>\n",
       "    </tr>\n",
       "    <tr>\n",
       "      <th>3</th>\n",
       "      <td>the dog measure its blond belly in the mud</td>\n",
       "      <td>this be a cumulative figure obtain by add up t...</td>\n",
       "    </tr>\n",
       "    <tr>\n",
       "      <th>4</th>\n",
       "      <td>the dog measure its blond belly in the mud</td>\n",
       "      <td>if it rain the ceremony will be under the tent</td>\n",
       "    </tr>\n",
       "  </tbody>\n",
       "</table>\n",
       "</div>"
      ],
      "text/plain": [
       "                                                   C  \\\n",
       "0  he have to brace his right arm against his leg...   \n",
       "1  he have to brace his right arm against his leg...   \n",
       "2  he have to brace his right arm against his leg...   \n",
       "3        the dog measure its blond belly in the mud    \n",
       "4        the dog measure its blond belly in the mud    \n",
       "\n",
       "                                                   D  \n",
       "0        the banner be estimate in value at 500 cni   \n",
       "1  diotrephes withstand john s word and would not...  \n",
       "2  the part i vividly remember be about a south s...  \n",
       "3  this be a cumulative figure obtain by add up t...  \n",
       "4    if it rain the ceremony will be under the tent   "
      ]
     },
     "execution_count": 137,
     "metadata": {},
     "output_type": "execute_result"
    }
   ],
   "source": [
    "df_data_iv.head()"
   ]
  },
  {
   "cell_type": "code",
   "execution_count": 138,
   "id": "45811990",
   "metadata": {
    "tags": []
   },
   "outputs": [],
   "source": [
    "df_sample_v = df_data_v.sample(frac=0.05)\n",
    "df_sample_iv = df_data_iv.sample(frac=0.05)"
   ]
  },
  {
   "cell_type": "code",
   "execution_count": 139,
   "id": "ba5980c6",
   "metadata": {
    "tags": []
   },
   "outputs": [
    {
     "name": "stdout",
     "output_type": "stream",
     "text": [
      "476\n",
      "475\n"
     ]
    }
   ],
   "source": [
    "print(len(pd.unique(df_sample_v['B'])))\n",
    "print(len(pd.unique(df_sample_iv['D'])))"
   ]
  },
  {
   "cell_type": "code",
   "execution_count": 140,
   "id": "6898d894",
   "metadata": {
    "tags": []
   },
   "outputs": [],
   "source": [
    "df_data = pd.DataFrame(columns = ['A', 'B', 'C', 'D', 'value'])"
   ]
  },
  {
   "cell_type": "code",
   "execution_count": 141,
   "id": "a1009234",
   "metadata": {
    "tags": []
   },
   "outputs": [
    {
     "name": "stdout",
     "output_type": "stream",
     "text": [
      "CPU times: user 21min 4s, sys: 352 ms, total: 21min 4s\n",
      "Wall time: 21min 4s\n"
     ]
    }
   ],
   "source": [
    "%%time\n",
    "\n",
    "for index, row in df_sample_v.iterrows():\n",
    "    for index1, row1 in df_sample_v.iterrows():\n",
    "            df_data = df_data.append({'A':row[0], 'B':row[1], 'C':row1[0], 'D':row1[1], 'value':1}, ignore_index = True)"
   ]
  },
  {
   "cell_type": "code",
   "execution_count": 142,
   "id": "6d4f8b38",
   "metadata": {
    "tags": []
   },
   "outputs": [
    {
     "data": {
      "text/plain": [
       "(311364, 5)"
      ]
     },
     "execution_count": 142,
     "metadata": {},
     "output_type": "execute_result"
    }
   ],
   "source": [
    "print('Rows of data:',df_data.shape[0])\n",
    "print('columns of data:',df_data.shape[1])"
   ]
  },
  {
   "cell_type": "code",
   "execution_count": 143,
   "id": "d91f6fcd",
   "metadata": {
    "tags": []
   },
   "outputs": [
    {
     "name": "stdout",
     "output_type": "stream",
     "text": [
      "CPU times: user 46min 45s, sys: 11.2 s, total: 46min 57s\n",
      "Wall time: 46min 56s\n"
     ]
    }
   ],
   "source": [
    "%%time\n",
    "\n",
    "for index, row in df_sample_v.iterrows():\n",
    "    for index1, row1 in df_sample_iv.iterrows():\n",
    "            df_data = df_data.append({'A':row[0], 'B':row[1], 'C':row1[0], 'D':row1[1], 'value':0}, ignore_index = True)"
   ]
  },
  {
   "cell_type": "code",
   "execution_count": 144,
   "id": "773037ec",
   "metadata": {
    "tags": []
   },
   "outputs": [],
   "source": [
    "df_data.to_csv('df_data.csv')"
   ]
  },
  {
   "cell_type": "code",
   "execution_count": 6,
   "id": "ce8dbc1a",
   "metadata": {
    "tags": []
   },
   "outputs": [
    {
     "data": {
      "text/html": [
       "<div>\n",
       "<style scoped>\n",
       "    .dataframe tbody tr th:only-of-type {\n",
       "        vertical-align: middle;\n",
       "    }\n",
       "\n",
       "    .dataframe tbody tr th {\n",
       "        vertical-align: top;\n",
       "    }\n",
       "\n",
       "    .dataframe thead th {\n",
       "        text-align: right;\n",
       "    }\n",
       "</style>\n",
       "<table border=\"1\" class=\"dataframe\">\n",
       "  <thead>\n",
       "    <tr style=\"text-align: right;\">\n",
       "      <th></th>\n",
       "      <th>A</th>\n",
       "      <th>B</th>\n",
       "      <th>C</th>\n",
       "      <th>D</th>\n",
       "      <th>value</th>\n",
       "    </tr>\n",
       "  </thead>\n",
       "  <tbody>\n",
       "    <tr>\n",
       "      <th>0</th>\n",
       "      <td>i would consider strike distance to mentbe men...</td>\n",
       "      <td>i would consider strike distance to mentbe men...</td>\n",
       "      <td>i would consider strike distance to mentbe men...</td>\n",
       "      <td>i would consider strike distance to mentbe men...</td>\n",
       "      <td>1</td>\n",
       "    </tr>\n",
       "    <tr>\n",
       "      <th>1</th>\n",
       "      <td>i would consider strike distance to mentbe men...</td>\n",
       "      <td>i would consider strike distance to mentbe men...</td>\n",
       "      <td>ellen journey to europe with five suitcases</td>\n",
       "      <td>ellen journey to europe with five suitcases</td>\n",
       "      <td>1</td>\n",
       "    </tr>\n",
       "    <tr>\n",
       "      <th>2</th>\n",
       "      <td>i would consider strike distance to mentbe men...</td>\n",
       "      <td>i would consider strike distance to mentbe men...</td>\n",
       "      <td>there be so many children in the family</td>\n",
       "      <td>i felt an unease inside me</td>\n",
       "      <td>1</td>\n",
       "    </tr>\n",
       "    <tr>\n",
       "      <th>3</th>\n",
       "      <td>i would consider strike distance to mentbe men...</td>\n",
       "      <td>i would consider strike distance to mentbe men...</td>\n",
       "      <td>almost immediately the police discover the wor...</td>\n",
       "      <td>later that night they find the barely alive vi...</td>\n",
       "      <td>1</td>\n",
       "    </tr>\n",
       "    <tr>\n",
       "      <th>4</th>\n",
       "      <td>i would consider strike distance to mentbe men...</td>\n",
       "      <td>i would consider strike distance to mentbe men...</td>\n",
       "      <td>6b second fe layer the population of smallvill...</td>\n",
       "      <td>6b second fe layer the population of smallvill...</td>\n",
       "      <td>1</td>\n",
       "    </tr>\n",
       "  </tbody>\n",
       "</table>\n",
       "</div>"
      ],
      "text/plain": [
       "                                                   A  \\\n",
       "0  i would consider strike distance to mentbe men...   \n",
       "1  i would consider strike distance to mentbe men...   \n",
       "2  i would consider strike distance to mentbe men...   \n",
       "3  i would consider strike distance to mentbe men...   \n",
       "4  i would consider strike distance to mentbe men...   \n",
       "\n",
       "                                                   B  \\\n",
       "0  i would consider strike distance to mentbe men...   \n",
       "1  i would consider strike distance to mentbe men...   \n",
       "2  i would consider strike distance to mentbe men...   \n",
       "3  i would consider strike distance to mentbe men...   \n",
       "4  i would consider strike distance to mentbe men...   \n",
       "\n",
       "                                                   C  \\\n",
       "0  i would consider strike distance to mentbe men...   \n",
       "1       ellen journey to europe with five suitcases    \n",
       "2           there be so many children in the family    \n",
       "3  almost immediately the police discover the wor...   \n",
       "4  6b second fe layer the population of smallvill...   \n",
       "\n",
       "                                                   D  value  \n",
       "0  i would consider strike distance to mentbe men...      1  \n",
       "1       ellen journey to europe with five suitcases       1  \n",
       "2                        i felt an unease inside me       1  \n",
       "3  later that night they find the barely alive vi...      1  \n",
       "4  6b second fe layer the population of smallvill...      1  "
      ]
     },
     "execution_count": 6,
     "metadata": {},
     "output_type": "execute_result"
    }
   ],
   "source": [
    "df_data = pd.read_csv('df_data.csv')\n",
    "df_data.drop(['Unnamed: 0'], axis = 1,inplace = True)\n",
    "df_data.head()"
   ]
  },
  {
   "cell_type": "markdown",
   "id": "afd51c9a-04cd-4b59-9d1c-dd984b86a7e3",
   "metadata": {},
   "source": [
    "# Data visualization"
   ]
  },
  {
   "cell_type": "code",
   "execution_count": 7,
   "id": "f27e67e2-e81e-41d5-bdb7-d9ea3df48218",
   "metadata": {
    "tags": []
   },
   "outputs": [
    {
     "data": {
      "text/plain": [
       "Text(0.5, 0.98, 'Binary Classification')"
      ]
     },
     "execution_count": 7,
     "metadata": {},
     "output_type": "execute_result"
    },
    {
     "data": {
      "image/png": "[encoded data removed]",
      "text/plain": [
       "<Figure size 864x504 with 2 Axes>"
      ]
     },
     "metadata": {
      "needs_background": "light"
     },
     "output_type": "display_data"
    }
   ],
   "source": [
    "import seaborn as sns\n",
    "fig, ax = plt.subplots(1, 2, figsize=(12,7))\n",
    "x=df_data['value'].value_counts().index\n",
    "y=df_data['value'].value_counts().values.tolist()\n",
    "data = df_data.groupby(\"value\").size()\n",
    "sns.set(style = 'white', color_codes=True)\n",
    "pal = sns.color_palette(\"winter\", len(data))\n",
    "rank = data.argsort().argsort() \n",
    "sns.barplot(x=x,y=y,palette=np.array(pal[::-1])[rank],ax = ax[0])\n",
    "for p in ax[0].patches:\n",
    "        ax[0].annotate('{:.0f}'.format(p.get_height()), (p.get_x()+0.3, p.get_height()),\n",
    "                    ha='center', va='bottom',\n",
    "                    color= 'black')\n",
    "ax[0].set_xlabel('class', weight='semibold', fontname = 'monospace')\n",
    "_, _, autotexts= ax[1].pie(y, labels = x, colors = pal, autopct='%1.1f%%',\n",
    "        explode=[0.00 for i in df_data['value'].value_counts().index])\n",
    "for autotext in autotexts:\n",
    "    autotext.set_color('white')\n",
    "plt.legend(bbox_to_anchor=(1, 1))\n",
    "plt.suptitle ('Binary Classification',weight = 'bold')"
   ]
  },
  {
   "cell_type": "code",
   "execution_count": 8,
   "id": "5a4779c6",
   "metadata": {
    "tags": []
   },
   "outputs": [
    {
     "name": "stdout",
     "output_type": "stream",
     "text": [
      "Valid samples : 290160\n",
      "Invalid samples : 311364\n"
     ]
    }
   ],
   "source": [
    "print('Valid samples :', df_data['value'].value_counts()[0])\n",
    "print('Invalid samples :', df_data['value'].value_counts()[1])"
   ]
  },
  {
   "cell_type": "code",
   "execution_count": 9,
   "id": "3c295d45",
   "metadata": {
    "tags": []
   },
   "outputs": [
    {
     "name": "stdout",
     "output_type": "stream",
     "text": [
      "Samples: 601524\n",
      "Features: 5\n"
     ]
    }
   ],
   "source": [
    "print('Samples:', df_data.shape[0])\n",
    "print('Features:', df_data.shape[1])"
   ]
  },
  {
   "cell_type": "code",
   "execution_count": 10,
   "id": "439fa7d7",
   "metadata": {
    "tags": []
   },
   "outputs": [
    {
     "name": "stdout",
     "output_type": "stream",
     "text": [
      "Shape of df_d1: (30076, 5)\n",
      "Sahpe of df_d2: (30076, 5)\n"
     ]
    }
   ],
   "source": [
    "df_d1 = df_data.sample(frac=0.05)\n",
    "df_d2 = df_data.sample(frac=0.05)\n",
    "print('Shape of df_d1:', df_d1.shape)\n",
    "print('Sahpe of df_d2:', df_d2.shape)"
   ]
  },
  {
   "cell_type": "code",
   "execution_count": 11,
   "id": "599e597a",
   "metadata": {
    "tags": []
   },
   "outputs": [
    {
     "name": "stdout",
     "output_type": "stream",
     "text": [
      "Counts of each class in df_d1:\n",
      "1    15650\n",
      "0    14426\n",
      "Name: value, dtype: int64\n",
      "\n",
      "Counts of each class df_d2:\n",
      "1    15599\n",
      "0    14477\n",
      "Name: value, dtype: int64\n"
     ]
    }
   ],
   "source": [
    "print('Counts of each class in df_d1:')\n",
    "print(df_d1['value'].value_counts())\n",
    "print('\\nCounts of each class df_d2:')\n",
    "print(df_d2['value'].value_counts())"
   ]
  },
  {
   "cell_type": "markdown",
   "id": "bc029f49-e760-4646-a17c-f9c8ab09f2fc",
   "metadata": {},
   "source": [
    "# SBERT"
   ]
  },
  {
   "cell_type": "code",
   "execution_count": 12,
   "id": "8608087d-ae84-4d66-9d47-ca25f5cd8e0c",
   "metadata": {
    "scrolled": true,
    "tags": []
   },
   "outputs": [
    {
     "data": {
      "application/vnd.jupyter.widget-view+json": {
       "model_id": "79c0744f80ca4d6b9ae16c162c64300d",
       "version_major": 2,
       "version_minor": 0
      },
      "text/plain": [
       "Batches:   0%|          | 0/940 [00:00<?, ?it/s]"
      ]
     },
     "metadata": {},
     "output_type": "display_data"
    },
    {
     "name": "stdout",
     "output_type": "stream",
     "text": [
      "Epoch: 1. Train Loss: 0.69377 Train Accuracy: 50.934%. Validation Loss: 0.69158. Validation Accuracy: 52.111%.\n",
      "Epoch: 2. Train Loss: 0.69230 Train Accuracy: 51.696%. Validation Loss: 0.69112. Validation Accuracy: 53.584%.\n",
      "Epoch: 3. Train Loss: 0.69159 Train Accuracy: 51.948%. Validation Loss: 0.69002. Validation Accuracy: 53.721%.\n",
      "Epoch: 4. Train Loss: 0.69100 Train Accuracy: 52.500%. Validation Loss: 0.68892. Validation Accuracy: 54.356%.\n",
      "Epoch: 5. Train Loss: 0.69069 Train Accuracy: 52.746%. Validation Loss: 0.68836. Validation Accuracy: 54.632%.\n",
      "Epoch: 6. Train Loss: 0.68942 Train Accuracy: 53.704%. Validation Loss: 0.68791. Validation Accuracy: 54.675%.\n",
      "Epoch: 7. Train Loss: 0.68980 Train Accuracy: 52.713%. Validation Loss: 0.68714. Validation Accuracy: 54.711%.\n",
      "Epoch: 8. Train Loss: 0.68901 Train Accuracy: 53.574%. Validation Loss: 0.68673. Validation Accuracy: 55.004%.\n",
      "Epoch: 9. Train Loss: 0.68927 Train Accuracy: 53.209%. Validation Loss: 0.68720. Validation Accuracy: 55.041%.\n",
      "Epoch: 10. Train Loss: 0.68851 Train Accuracy: 53.524%. Validation Loss: 0.68662. Validation Accuracy: 55.117%.\n"
     ]
    }
   ],
   "source": [
    "import torch\n",
    "from torch.utils.data import TensorDataset, DataLoader\n",
    "from sentence_transformers import SentenceTransformer\n",
    "\n",
    "df = df_d1\n",
    "\n",
    "# Load Pretrained SBERT Model\n",
    "model_name = 'distilbert-base-nli-stsb-mean-tokens'\n",
    "tokenizer = SentenceTransformer(model_name)\n",
    "\n",
    "sentences = []\n",
    "temp = []\n",
    "# Extract sentence embeddings\n",
    "for index, row in df.iterrows():\n",
    "    temp.append(row['A'])\n",
    "    temp.append(row['B'])\n",
    "    temp.append(row['C'])\n",
    "    temp.append(row['D'])\n",
    "    sentences.append(temp)\n",
    "    temp = []\n",
    "    \n",
    "embeddings = np.array(tokenizer.encode(sentences, show_progress_bar=True)).astype(np.float32)\n",
    "\n",
    "# Formulate input-output Dataset\n",
    "labels = df['value'].values.astype(np.int64)\n",
    "input_dataset = TensorDataset(torch.tensor(embeddings), torch.tensor(labels))\n",
    "\n",
    "# DataLoader\n",
    "dataloader = DataLoader(input_dataset, batch_size=32, shuffle=True)\n",
    "\n",
    "# Define Binary Classification Model\n",
    "class BinaryClassifier(torch.nn.Module):\n",
    "    def __init__(self, input_dim):\n",
    "        super(BinaryClassifier, self).__init__()\n",
    "        self.fc1 = torch.nn.Linear(input_dim, 384)\n",
    "        self.fc2 = torch.nn.Linear(384, 192)\n",
    "        self.fc3 = torch.nn.Linear(192, 96)\n",
    "        self.fc4 = torch.nn.Linear(96, 48)\n",
    "        self.fc5 = torch.nn.Linear(48, 24)\n",
    "        self.fc6 = torch.nn.Linear(24, 2)\n",
    "        self.dropout = torch.nn.Dropout(0.1)\n",
    "\n",
    "    def forward(self, x):\n",
    "        x = self.fc1(x)\n",
    "        x = torch.nn.functional.relu(x)\n",
    "        x = self.dropout(x)\n",
    "        x = self.fc2(x)\n",
    "        x = torch.nn.functional.relu(x)\n",
    "        x = self.dropout(x)\n",
    "        x = self.fc3(x)\n",
    "        x = torch.nn.functional.relu(x)\n",
    "        x = self.dropout(x)\n",
    "        x = self.fc4(x)\n",
    "        x = torch.nn.functional.relu(x)\n",
    "        x = self.dropout(x)\n",
    "        x = self.fc5(x)\n",
    "        x = torch.nn.functional.relu(x)\n",
    "        x = self.dropout(x)\n",
    "        x = self.fc6(x)\n",
    "        x = torch.nn.functional.relu(x)\n",
    "        x = self.dropout(x)\n",
    "        return x\n",
    "\n",
    "# instantiate the Binary Classifier Model\n",
    "model = BinaryClassifier(embeddings.shape[1])\n",
    "\n",
    "# Define Loss and Optimizer\n",
    "loss_fn = torch.nn.CrossEntropyLoss()\n",
    "optimizer = torch.optim.Adam(model.parameters(), lr=1e-4)\n",
    "# optimizer = torch.optim.SGD(model.parameters(), lr=1e-4)\n",
    "\n",
    "device = torch.device('cuda' if torch.cuda.is_available() else 'cpu')\n",
    "model.to(device)\n",
    "\n",
    "n_epochs = 10\n",
    "\n",
    "train_acc_bert = []\n",
    "train_loss_bert = []\n",
    "val_acc_bert = []\n",
    "val_loss_bert = []\n",
    "\n",
    "# Train the Model\n",
    "for i in range(n_epochs):\n",
    "    train_loss = 0.\n",
    "    correct_train = 0.\n",
    "\n",
    "    model.train()\n",
    "    for inputs, labels in dataloader:\n",
    "        optimizer.zero_grad()\n",
    "        inputs, labels = inputs.to(device), labels.to(device)\n",
    "\n",
    "        outputs = model(inputs)\n",
    "        loss = loss_fn(outputs, labels)\n",
    "\n",
    "        loss.backward()\n",
    "        optimizer.step()\n",
    "\n",
    "        # Keep Track of Accuracy and Loss\n",
    "        train_loss += loss.item() * inputs.shape[0]\n",
    "        predicted = torch.argmax(outputs, dim=1)\n",
    "        correct_train += (predicted == labels).sum().item()\n",
    "        \n",
    "        training_loss = train_loss/len(input_dataset)\n",
    "        training_accuracy = correct_train/len(input_dataset)\n",
    "        \n",
    "        \n",
    "\n",
    "    # Evaluate on Validation Set after first epoch\n",
    "    \n",
    "    val_loss = 0.\n",
    "    correct_val = 0.\n",
    "\n",
    "    model.eval()\n",
    "    with torch.no_grad():\n",
    "        for inputs, labels in dataloader:\n",
    "            inputs, labels = inputs.to(device), labels.to(device)\n",
    "\n",
    "            outputs = model(inputs)\n",
    "            loss = loss_fn(outputs.squeeze(), labels)\n",
    "\n",
    "            val_loss += loss.item() * inputs.shape[0]\n",
    "            predicted = torch.argmax(outputs, dim=1)\n",
    "            correct_val += (predicted == labels).sum().item()\n",
    "            \n",
    "            validation_loss = val_loss/len(input_dataset)\n",
    "            validation_accuracy = correct_val/len(input_dataset)\n",
    "            \n",
    "        print(f\"Epoch: {i+1}. Train Loss: {(training_loss):.5f} Train Accuracy: {(100*training_accuracy):.3f}%. Validation Loss: {(validation_loss):.5f}. Validation Accuracy: {(100*validation_accuracy):.3f}%.\") \n",
    "        train_acc_bert.append(training_accuracy)\n",
    "        train_loss_bert.append(training_loss)\n",
    "        val_acc_bert.append(validation_accuracy)\n",
    "        val_loss_bert.append(validation_loss)"
   ]
  },
  {
   "cell_type": "markdown",
   "id": "68f1791d-0792-4b97-88f9-19d6fd029432",
   "metadata": {},
   "source": [
    "### Graphs"
   ]
  },
  {
   "cell_type": "code",
   "execution_count": 13,
   "id": "d230d0c9-7427-4e15-8406-f41de4d67332",
   "metadata": {
    "tags": []
   },
   "outputs": [
    {
     "data": {
      "text/plain": [
       "<matplotlib.legend.Legend at 0x7fc127011510>"
      ]
     },
     "execution_count": 13,
     "metadata": {},
     "output_type": "execute_result"
    },
    {
     "data": {
      "image/png": "[encoded data removed]",
      "text/plain": [
       "<Figure size 1080x720 with 2 Axes>"
      ]
     },
     "metadata": {},
     "output_type": "display_data"
    }
   ],
   "source": [
    "epochs = range(1, len(train_acc_bert) + 1)\n",
    "plt.figure(figsize=(15,10))\n",
    "plt.subplot(2,2,1)\n",
    "plt.plot(epochs, train_acc_bert, label='Training Accuracy')\n",
    "plt.plot(epochs, val_acc_bert, label='Validation Accuracy')\n",
    "plt.title('Training and Validation Accuracy (BERT)')\n",
    "plt.xlabel('Epochs')\n",
    "plt.ylabel('Accuracy')\n",
    "plt.legend()\n",
    "plt.subplot(2,2,2)\n",
    "plt.plot(epochs, train_loss_bert, label='Training Loss')\n",
    "plt.plot(epochs, val_loss_bert, label='Validation Loss')\n",
    "plt.title('Training and Validation Loss (BERT)')\n",
    "plt.xlabel('Epochs')\n",
    "plt.ylabel('Accuracy')\n",
    "plt.legend() \n"
   ]
  },
  {
   "cell_type": "markdown",
   "id": "adebd246-1bc9-4c52-95be-d2bf7fa5089e",
   "metadata": {},
   "source": [
    "# Fine tuning of SBERT"
   ]
  },
  {
   "cell_type": "code",
   "execution_count": 14,
   "id": "01ae2aea",
   "metadata": {
    "scrolled": true,
    "tags": []
   },
   "outputs": [],
   "source": [
    "import torch\n",
    "import numpy as np\n",
    "from torch.utils.data import TensorDataset, DataLoader\n",
    "from sentence_transformers import SentenceTransformer\n",
    "\n",
    "# Your existing code ...\n",
    "\n",
    "# Define a dictionary to store the best parameters\n",
    "best_params = {\n",
    "    'learning_rate': None,\n",
    "    'batch_size': None,\n",
    "    'optimizer': None,\n",
    "    'loss_fn': None,\n",
    "    'validation_accuracy': 0.0\n",
    "}\n",
    "\n",
    "# Define a list to store validation accuracies for different parameter combinations\n",
    "val_acc_list = []\n",
    "\n",
    "# Define the parameter search space\n",
    "learning_rates = [1e-4, 1e-3, 1e-2]\n",
    "batch_sizes = [16, 32, 64]\n",
    "optimizers = ['adam', 'sgd']\n",
    "loss_fns = ['CrossEntropyLoss', 'NLLLoss']\n",
    "\n",
    "# Perform parameter search\n",
    "for lr in learning_rates:\n",
    "    for batch_size in batch_sizes:\n",
    "        for optimizer_name in optimizers:\n",
    "            for loss_fn_name in loss_fns:\n",
    "                # Create a new instance of the Binary Classifier Model\n",
    "                model = BinaryClassifier(embeddings.shape[1])\n",
    "                model.to(device)\n",
    "\n",
    "                # Define Loss and Optimizer based on the current parameter combination\n",
    "                if loss_fn_name == 'CrossEntropyLoss':\n",
    "                    loss_fn = torch.nn.CrossEntropyLoss()\n",
    "                else:\n",
    "                    loss_fn = torch.nn.NLLLoss()\n",
    "\n",
    "                if optimizer_name == 'adam':\n",
    "                    optimizer = torch.optim.Adam(model.parameters(), lr=lr)\n",
    "                else:\n",
    "                    optimizer = torch.optim.SGD(model.parameters(), lr=lr)\n",
    "\n",
    "                # DataLoader\n",
    "                dataloader = DataLoader(input_dataset, batch_size=batch_size, shuffle=True)\n",
    "\n",
    "                # Train the model\n",
    "                for epoch in range(n_epochs):\n",
    "                    # Training loop\n",
    "\n",
    "                    # Validation loop\n",
    "                    model.eval()\n",
    "                    val_loss = 0.0\n",
    "                    correct_val = 0\n",
    "\n",
    "                    with torch.no_grad():\n",
    "                        for inputs, labels in dataloader:\n",
    "                            inputs, labels = inputs.to(device), labels.to(device)\n",
    "\n",
    "                            outputs = model(inputs)\n",
    "                            loss = loss_fn(outputs.squeeze(), labels)\n",
    "\n",
    "                            val_loss += loss.item() * inputs.shape[0]\n",
    "                            predicted = torch.argmax(outputs, dim=1)\n",
    "                            correct_val += (predicted == labels).sum().item()\n",
    "\n",
    "                        validation_loss = val_loss / len(input_dataset)\n",
    "                        validation_accuracy = correct_val / len(input_dataset)\n",
    "\n",
    "                        # Store the best parameters based on validation accuracy\n",
    "                        if validation_accuracy > best_params['validation_accuracy']:\n",
    "                            best_params['learning_rate'] = lr\n",
    "                            best_params['batch_size'] = batch_size\n",
    "                            best_params['optimizer'] = optimizer_name\n",
    "                            best_params['loss_fn'] = loss_fn_name\n",
    "                            best_params['validation_accuracy'] = validation_accuracy\n",
    "\n",
    "                        val_acc_list.append(validation_accuracy)\n",
    "\n"
   ]
  },
  {
   "cell_type": "code",
   "execution_count": 15,
   "id": "f81453f1-a70c-4249-9f32-f3b2249730ad",
   "metadata": {
    "tags": []
   },
   "outputs": [
    {
     "name": "stdout",
     "output_type": "stream",
     "text": [
      "Best Parameters:\n",
      "Learning Rate: 0.0001\n",
      "Batch size: 16\n",
      "Optimizer: sgd\n",
      "Loss function: CrossEntropyLoss\n"
     ]
    }
   ],
   "source": [
    "print('Best Parameters:')\n",
    "print('Learning Rate:', best_params['learning_rate'])\n",
    "print('Batch size:', best_params['batch_size'])\n",
    "print('Optimizer:', best_params['optimizer'])\n",
    "print('Loss function:', best_params['loss_fn'])"
   ]
  },
  {
   "cell_type": "markdown",
   "id": "6cf6ddaf-6bf7-4afc-8cb1-24de5f822b8d",
   "metadata": {},
   "source": [
    "# SBERT with Best Parameters"
   ]
  },
  {
   "cell_type": "code",
   "execution_count": 16,
   "id": "c4e049df-27dc-4b40-8321-10a39a38383f",
   "metadata": {
    "tags": []
   },
   "outputs": [
    {
     "data": {
      "application/vnd.jupyter.widget-view+json": {
       "model_id": "2dab16d432464c48a199dddc1b311863",
       "version_major": 2,
       "version_minor": 0
      },
      "text/plain": [
       "Batches:   0%|          | 0/940 [00:00<?, ?it/s]"
      ]
     },
     "metadata": {},
     "output_type": "display_data"
    },
    {
     "name": "stdout",
     "output_type": "stream",
     "text": [
      "Epoch: 1. Train Loss: 0.69434 Train Accuracy: 49.781%. Validation Loss: 0.69196. Validation Accuracy: 52.221%.\n",
      "Epoch: 2. Train Loss: 0.69219 Train Accuracy: 51.945%. Validation Loss: 0.69114. Validation Accuracy: 52.613%.\n",
      "Epoch: 3. Train Loss: 0.69184 Train Accuracy: 52.337%. Validation Loss: 0.69047. Validation Accuracy: 53.571%.\n",
      "Epoch: 4. Train Loss: 0.69116 Train Accuracy: 52.613%. Validation Loss: 0.68977. Validation Accuracy: 53.425%.\n",
      "Epoch: 5. Train Loss: 0.69071 Train Accuracy: 52.873%. Validation Loss: 0.68920. Validation Accuracy: 54.023%.\n",
      "Epoch: 6. Train Loss: 0.69041 Train Accuracy: 53.009%. Validation Loss: 0.68879. Validation Accuracy: 53.983%.\n",
      "Epoch: 7. Train Loss: 0.68989 Train Accuracy: 53.391%. Validation Loss: 0.68830. Validation Accuracy: 54.452%.\n",
      "Epoch: 8. Train Loss: 0.68939 Train Accuracy: 53.598%. Validation Loss: 0.68786. Validation Accuracy: 54.459%.\n",
      "Epoch: 9. Train Loss: 0.68927 Train Accuracy: 53.770%. Validation Loss: 0.68764. Validation Accuracy: 54.412%.\n",
      "Epoch: 10. Train Loss: 0.68895 Train Accuracy: 53.764%. Validation Loss: 0.68724. Validation Accuracy: 54.728%.\n",
      "Epoch: 11. Train Loss: 0.68852 Train Accuracy: 54.026%. Validation Loss: 0.68701. Validation Accuracy: 54.695%.\n",
      "Epoch: 12. Train Loss: 0.68850 Train Accuracy: 54.086%. Validation Loss: 0.68678. Validation Accuracy: 54.715%.\n",
      "Epoch: 13. Train Loss: 0.68825 Train Accuracy: 54.159%. Validation Loss: 0.68642. Validation Accuracy: 54.898%.\n",
      "Epoch: 14. Train Loss: 0.68836 Train Accuracy: 54.113%. Validation Loss: 0.68645. Validation Accuracy: 55.061%.\n",
      "Epoch: 15. Train Loss: 0.68816 Train Accuracy: 54.233%. Validation Loss: 0.68608. Validation Accuracy: 55.074%.\n",
      "Epoch: 16. Train Loss: 0.68774 Train Accuracy: 54.292%. Validation Loss: 0.68589. Validation Accuracy: 55.007%.\n",
      "Epoch: 17. Train Loss: 0.68752 Train Accuracy: 54.279%. Validation Loss: 0.68570. Validation Accuracy: 54.914%.\n",
      "Epoch: 18. Train Loss: 0.68732 Train Accuracy: 54.356%. Validation Loss: 0.68563. Validation Accuracy: 54.997%.\n",
      "Epoch: 19. Train Loss: 0.68724 Train Accuracy: 54.442%. Validation Loss: 0.68544. Validation Accuracy: 55.144%.\n",
      "Epoch: 20. Train Loss: 0.68754 Train Accuracy: 53.990%. Validation Loss: 0.68540. Validation Accuracy: 55.180%.\n"
     ]
    }
   ],
   "source": [
    "import torch\n",
    "from torch.utils.data import TensorDataset, DataLoader\n",
    "from sentence_transformers import SentenceTransformer\n",
    "\n",
    "df = df_d1\n",
    "\n",
    "# Load Pretrained SBERT Model\n",
    "model_name = 'distilbert-base-nli-stsb-mean-tokens'\n",
    "tokenizer = SentenceTransformer(model_name)\n",
    "\n",
    "sentences = []\n",
    "temp = []\n",
    "# Extract sentence embeddings\n",
    "for index, row in df.iterrows():\n",
    "    temp.append(row['A'])\n",
    "    temp.append(row['B'])\n",
    "    temp.append(row['C'])\n",
    "    temp.append(row['D'])\n",
    "    sentences.append(temp)\n",
    "    temp = []\n",
    "embeddings = np.array(tokenizer.encode(sentences, show_progress_bar=True)).astype(np.float32)\n",
    "\n",
    "# Formulate input-output Dataset\n",
    "labels = df['value'].values.astype(np.int64)\n",
    "input_dataset = TensorDataset(torch.tensor(embeddings), torch.tensor(labels))\n",
    "\n",
    "# DataLoader\n",
    "dataloader = DataLoader(input_dataset, batch_size=64, shuffle=True)\n",
    "\n",
    "# Define Binary Classification Model\n",
    "class BinaryClassifier(torch.nn.Module):\n",
    "  def __init__(self, input_dim):\n",
    "    super(BinaryClassifier, self).__init__()\n",
    "    self.fc1 = torch.nn.Linear(input_dim, 32)\n",
    "    self.fc2 = torch.nn.Linear(32, 16)\n",
    "    self.fc3 = torch.nn.Linear(16, 2)\n",
    "    self.dropout = torch.nn.Dropout(0.1)\n",
    "\n",
    "  def forward(self, x):\n",
    "      x = self.fc1(x)\n",
    "      x = torch.nn.functional.relu(x)\n",
    "      x = self.dropout(x)\n",
    "      x = self.fc2(x)\n",
    "      x = torch.nn.functional.relu(x)\n",
    "      x = self.dropout(x)\n",
    "      x = self.fc3(x)\n",
    "      return x\n",
    "\n",
    "# instantiate the Binary Classifier Model\n",
    "model = BinaryClassifier(embeddings.shape[1])\n",
    "\n",
    "# Define Loss and Optimizer\n",
    "loss_fn = torch.nn.CrossEntropyLoss()\n",
    "optimizer = torch.optim.Adam(model.parameters(), lr=0.0001)\n",
    "\n",
    "device = torch.device('cuda' if torch.cuda.is_available() else 'cpu')\n",
    "model.to(device)\n",
    "\n",
    "n_epochs = 20\n",
    "\n",
    "train_acc_bbert = []\n",
    "train_loss_bbert = []\n",
    "val_acc_bbert = []\n",
    "val_loss_bbert = []\n",
    "\n",
    "# Train the Model\n",
    "for i in range(n_epochs):\n",
    "    train_loss = 0.\n",
    "    correct_train = 0.\n",
    "\n",
    "    model.train()\n",
    "    for inputs, labels in dataloader:\n",
    "        optimizer.zero_grad()\n",
    "        inputs, labels = inputs.to(device), labels.to(device)\n",
    "\n",
    "        outputs = model(inputs)\n",
    "        loss = loss_fn(outputs, labels)\n",
    "\n",
    "        loss.backward()\n",
    "        optimizer.step()\n",
    "\n",
    "        # Keep Track of Accuracy and Loss\n",
    "        train_loss += loss.item() * inputs.shape[0]\n",
    "        predicted = torch.argmax(outputs, dim=1)\n",
    "        correct_train += (predicted == labels).sum().item()\n",
    "        \n",
    "        training_loss = train_loss/len(input_dataset)\n",
    "        training_accuracy = correct_train/len(input_dataset)\n",
    "\n",
    "    # Evaluate on Validation Set after first epoch\n",
    "    \n",
    "    val_loss = 0.\n",
    "    correct_val = 0.\n",
    "\n",
    "    model.eval()\n",
    "    with torch.no_grad():\n",
    "        for inputs, labels in dataloader:\n",
    "            inputs, labels = inputs.to(device), labels.to(device)\n",
    "\n",
    "            outputs = model(inputs)\n",
    "            loss = loss_fn(outputs.squeeze(), labels)\n",
    "\n",
    "            val_loss += loss.item() * inputs.shape[0]\n",
    "            predicted = torch.argmax(outputs, dim=1)\n",
    "            correct_val += (predicted == labels).sum().item()\n",
    "            \n",
    "            validation_loss = val_loss/len(input_dataset)\n",
    "            validation_accuracy = correct_val/len(input_dataset)\n",
    "            \n",
    "            \n",
    "    print(f\"Epoch: {i+1}. Train Loss: {(training_loss):.5f} Train Accuracy: {(100*training_accuracy):.3f}%. Validation Loss: {(validation_loss):.5f}. Validation Accuracy: {(100*validation_accuracy):.3f}%.\")\n",
    "    train_acc_bbert.append(training_accuracy)\n",
    "    train_loss_bbert.append(training_loss)\n",
    "    val_acc_bbert.append(validation_accuracy)\n",
    "    val_loss_bbert.append(validation_loss)"
   ]
  },
  {
   "cell_type": "markdown",
   "id": "9829ba00-db1d-490b-92f4-7e5509bed9b9",
   "metadata": {},
   "source": [
    "### Graphs"
   ]
  },
  {
   "cell_type": "code",
   "execution_count": 17,
   "id": "0a97b11b-27b0-4725-8971-890eb8bfa8b1",
   "metadata": {
    "tags": []
   },
   "outputs": [
    {
     "data": {
      "text/plain": [
       "<matplotlib.legend.Legend at 0x7fc13d542f90>"
      ]
     },
     "execution_count": 17,
     "metadata": {},
     "output_type": "execute_result"
    },
    {
     "data": {
      "image/png": "[encoded data removed]",
      "text/plain": [
       "<Figure size 1080x720 with 2 Axes>"
      ]
     },
     "metadata": {},
     "output_type": "display_data"
    }
   ],
   "source": [
    "epochs = range(1, len(train_acc_bbert) + 1)\n",
    "plt.figure(figsize=(15,10))\n",
    "plt.subplot(2,2,1)\n",
    "plt.plot(epochs, train_acc_bbert, label='Training Accuracy')\n",
    "plt.plot(epochs, val_acc_bbert, label='Validation Accuracy')\n",
    "plt.title('Training and Validation Accuracy (Best_BERT)')\n",
    "plt.xlabel('Epochs')\n",
    "plt.ylabel('Accuracy')\n",
    "plt.legend()\n",
    "plt.subplot(2,2,2)\n",
    "plt.plot(epochs, train_loss_bbert, label='Training Loss')\n",
    "plt.plot(epochs, val_loss_bbert, label='Validation Loss')\n",
    "plt.title('Training and Validation Loss (Best_BERT)')\n",
    "plt.xlabel('Epochs')\n",
    "plt.ylabel('Accuracy')\n",
    "plt.legend() \n"
   ]
  },
  {
   "cell_type": "markdown",
   "id": "a804dd7a-ed92-459a-aa3f-cb25caf8cece",
   "metadata": {},
   "source": [
    "# MiniLM"
   ]
  },
  {
   "cell_type": "code",
   "execution_count": 33,
   "id": "5bb51ccd-88ec-4d19-a12d-2b86327c0050",
   "metadata": {
    "tags": []
   },
   "outputs": [
    {
     "name": "stderr",
     "output_type": "stream",
     "text": [
      "Some weights of BertForSequenceClassification were not initialized from the model checkpoint at microsoft/MiniLM-L12-H384-uncased and are newly initialized: ['classifier.bias', 'classifier.weight']\n",
      "You should probably TRAIN this model on a down-stream task to be able to use it for predictions and inference.\n",
      "Asking to truncate to max_length but no maximum length is provided and the model has no predefined maximum length. Default to no truncation.\n"
     ]
    },
    {
     "name": "stdout",
     "output_type": "stream",
     "text": [
      "Epoch: 1\n",
      "Training Accuracy: 0.492, Validation Accuracy: 0.590, Traning Loss: 0.508, Validation loss: 0.410 \n",
      "Epoch: 2\n",
      "Training Accuracy: 0.499, Validation Accuracy: 0.581, Traning Loss: 0.501, Validation loss: 0.419 \n",
      "Epoch: 3\n",
      "Training Accuracy: 0.508, Validation Accuracy: 0.578, Traning Loss: 0.492, Validation loss: 0.422 \n",
      "Epoch: 4\n",
      "Training Accuracy: 0.516, Validation Accuracy: 0.578, Traning Loss: 0.484, Validation loss: 0.422 \n",
      "Epoch: 5\n",
      "Training Accuracy: 0.501, Validation Accuracy: 0.578, Traning Loss: 0.499, Validation loss: 0.422 \n",
      "Epoch: 6\n",
      "Training Accuracy: 0.520, Validation Accuracy: 0.578, Traning Loss: 0.480, Validation loss: 0.422 \n",
      "Epoch: 7\n",
      "Training Accuracy: 0.526, Validation Accuracy: 0.578, Traning Loss: 0.474, Validation loss: 0.422 \n",
      "Epoch: 8\n",
      "Training Accuracy: 0.511, Validation Accuracy: 0.578, Traning Loss: 0.489, Validation loss: 0.422 \n",
      "Epoch: 9\n",
      "Training Accuracy: 0.527, Validation Accuracy: 0.578, Traning Loss: 0.473, Validation loss: 0.422 \n",
      "Epoch: 10\n",
      "Training Accuracy: 0.516, Validation Accuracy: 0.578, Traning Loss: 0.484, Validation loss: 0.422 \n"
     ]
    }
   ],
   "source": [
    "import pandas as pd\n",
    "import numpy as np\n",
    "import torch\n",
    "from torch.utils.data import Dataset, DataLoader\n",
    "from transformers import AutoTokenizer, AutoModelForSequenceClassification, AdamW\n",
    "from transformers.utils import check_min_version\n",
    "\n",
    "# Ensure transformers version 4.6.0 or higher\n",
    "check_min_version(\"4.6.0\")\n",
    "\n",
    "# Define Dataset Class\n",
    "class CustomDataset(Dataset):\n",
    "    def __init__(self, tokenizer, sentences, labels):\n",
    "        self.encodings = tokenizer(sentences, padding=True, truncation=True, return_tensors=\"pt\")\n",
    "        self.labels = labels\n",
    "\n",
    "    def __getitem__(self, idx):\n",
    "        item = {key: val[idx] for key, val in self.encodings.items()}\n",
    "        item['labels'] = torch.tensor(self.labels[idx])\n",
    "        return item\n",
    "\n",
    "    def __len__(self):\n",
    "        return len(self.labels)\n",
    "\n",
    "# Load Dataframe\n",
    "df = df_d2.sample(frac=0.05)\n",
    "\n",
    "# Load Pretrained MiniLM Model\n",
    "model_name = 'microsoft/MiniLM-L12-H384-uncased'\n",
    "tokenizer = AutoTokenizer.from_pretrained(model_name)\n",
    "model = AutoModelForSequenceClassification.from_pretrained(model_name, num_labels=2)\n",
    "\n",
    "# Convert Labels to Long Type\n",
    "labels = df['value'].astype(int).values.astype(np.int64)\n",
    "\n",
    "# Tokenize Sentences and Form Dataset\n",
    "sentences = [f\"{row.A} {row.B} {row.C} {row.D}\" for _, row in df.iterrows()]\n",
    "dataset = CustomDataset(tokenizer, sentences, labels)\n",
    "\n",
    "# DataLoader\n",
    "dataloader = DataLoader(dataset, batch_size=8, shuffle=True)\n",
    "\n",
    "# Define Optimizer and Scheduler\n",
    "optimizer = AdamW(model.parameters(), lr=1e-6)\n",
    "scheduler = torch.optim.lr_scheduler.StepLR(optimizer, step_size=1, gamma=0.1)\n",
    "\n",
    "device = torch.device('cuda' if torch.cuda.is_available() else 'cpu')\n",
    "model.to(device)\n",
    "\n",
    "n_epochs = 10\n",
    "\n",
    "# Training Loop\n",
    "# Training Loop\n",
    "train_acc_lm = []\n",
    "val_acc_lm = []\n",
    "train_loss_lm = []\n",
    "val_loss_lm = []\n",
    "for epoch in range(n_epochs):\n",
    "    print(f\"Epoch: {epoch+1}\")\n",
    "    model.train()\n",
    "    total_correct = 0\n",
    "    total_samples = 0\n",
    "\n",
    "    for batch in dataloader:\n",
    "        # Fetch Input-Output Batch and Move to GPU\n",
    "        inputs = {'input_ids': batch['input_ids'].to(device),\n",
    "                  'attention_mask': batch['attention_mask'].to(device)}\n",
    "        labels = batch['labels'].to(device)\n",
    "\n",
    "        # Clear Gradients and Compute Output\n",
    "        optimizer.zero_grad()\n",
    "        outputs = model(**inputs, labels=labels)\n",
    "\n",
    "        # Compute Loss and Backpropagate\n",
    "        loss = outputs.loss\n",
    "        loss.backward()\n",
    "        optimizer.step()\n",
    "\n",
    "        # Calculate training accuracy\n",
    "        predictions = torch.argmax(outputs.logits, dim=1)\n",
    "        total_correct += (predictions == labels).sum().item()\n",
    "        total_samples += len(labels)\n",
    "\n",
    "    training_accuracy = total_correct / total_samples\n",
    "    train_acc_lm.append(training_accuracy)\n",
    "    training_loss= 1 - training_accuracy\n",
    "    train_loss_lm.append(training_loss)\n",
    "\n",
    "    # Evaluate Model at end of Epoch\n",
    "    model.eval()\n",
    "    with torch.no_grad():\n",
    "        val_loss = 0\n",
    "        val_correct = 0\n",
    "        val_total = 0\n",
    "\n",
    "        for batch in dataloader:\n",
    "            inputs = {'input_ids': batch['input_ids'].to(device),\n",
    "                      'attention_mask': batch['attention_mask'].to(device)}\n",
    "            labels = batch['labels'].to(device)\n",
    "\n",
    "            outputs = model(**inputs, labels=labels)\n",
    "            val_loss += outputs.loss.item() * len(labels)\n",
    "            val_correct += (torch.argmax(outputs.logits, dim=1) == labels).sum().item()\n",
    "            val_total += len(labels)\n",
    "\n",
    "            validation_accuracy = val_correct / val_total\n",
    "            validation_loss = 1 - validation_accuracy\n",
    "            \n",
    "        print(f\"Training Accuracy: {training_accuracy:.3f}, Validation Accuracy: {validation_accuracy:.3f}, Traning Loss: {training_loss:.3f}, Validation loss: {(validation_loss):.3f} \")\n",
    "        val_loss_lm.append(validation_loss)\n",
    "        val_acc_lm.append(validation_accuracy)\n",
    "    scheduler.step()"
   ]
  },
  {
   "cell_type": "markdown",
   "id": "428c6b37-9ee6-4307-9bc8-0cda045801ae",
   "metadata": {},
   "source": [
    "### Graph of Training and losses"
   ]
  },
  {
   "cell_type": "code",
   "execution_count": 34,
   "id": "20f510bd-0cb7-4b3d-8815-8a575bde872e",
   "metadata": {
    "tags": []
   },
   "outputs": [
    {
     "data": {
      "image/png": "[encoded data removed]",
      "text/plain": [
       "<Figure size 864x720 with 2 Axes>"
      ]
     },
     "metadata": {},
     "output_type": "display_data"
    }
   ],
   "source": [
    "epochs = range(1, len(train_acc_lm) + 1)\n",
    "plt.figure(figsize=(12, 10))\n",
    "plt.subplot(2,2,1)\n",
    "plt.plot(epochs, train_acc_lm, label='Training Accuracy')\n",
    "plt.plot(epochs, val_acc_lm, label='Validation Accuracy')\n",
    "plt.title('Training and Validation Accuracy (MiniLM)')\n",
    "plt.xlabel('Epochs')\n",
    "plt.ylabel('Accuracy')\n",
    "plt.legend()\n",
    "plt.subplot(2,2,2)\n",
    "plt.plot(epochs, train_loss_lm, label='Training Loss')\n",
    "plt.plot(epochs, val_loss_lm, label='Validation Loss')\n",
    "plt.title('Training and Validation Loss (MiniLM)')\n",
    "plt.xlabel('Epochs')\n",
    "plt.ylabel('Accuracy')\n",
    "plt.legend() \n",
    "plt.tight_layout()"
   ]
  },
  {
   "cell_type": "markdown",
   "id": "16c10a76-e5c5-412b-adb3-6cf6f83f22e9",
   "metadata": {},
   "source": [
    "## Fine Tuning of MiniLM"
   ]
  },
  {
   "cell_type": "code",
   "execution_count": 22,
   "id": "016dc79a-61f4-4fcd-97a5-661442cacbdd",
   "metadata": {
    "tags": []
   },
   "outputs": [
    {
     "name": "stderr",
     "output_type": "stream",
     "text": [
      "Some weights of BertForSequenceClassification were not initialized from the model checkpoint at microsoft/MiniLM-L12-H384-uncased and are newly initialized: ['classifier.bias', 'classifier.weight']\n",
      "You should probably TRAIN this model on a down-stream task to be able to use it for predictions and inference.\n",
      "Asking to truncate to max_length but no maximum length is provided and the model has no predefined maximum length. Default to no truncation.\n",
      "Some weights of BertForSequenceClassification were not initialized from the model checkpoint at microsoft/MiniLM-L12-H384-uncased and are newly initialized: ['classifier.bias', 'classifier.weight']\n",
      "You should probably TRAIN this model on a down-stream task to be able to use it for predictions and inference.\n"
     ]
    },
    {
     "name": "stdout",
     "output_type": "stream",
     "text": [
      "Epoch: 1\n",
      "Epoch: 2\n",
      "Epoch: 3\n",
      "Epoch: 4\n",
      "Epoch: 5\n",
      "Epoch: 6\n",
      "Epoch: 7\n",
      "Epoch: 8\n",
      "Epoch: 9\n",
      "Epoch: 10\n",
      "Training Accuracy: 0.983, Validation Accuracy: 0.995, Training Loss: 0.017, Validation Loss: 0.025\n"
     ]
    },
    {
     "name": "stderr",
     "output_type": "stream",
     "text": [
      "Some weights of BertForSequenceClassification were not initialized from the model checkpoint at microsoft/MiniLM-L12-H384-uncased and are newly initialized: ['classifier.bias', 'classifier.weight']\n",
      "You should probably TRAIN this model on a down-stream task to be able to use it for predictions and inference.\n"
     ]
    },
    {
     "name": "stdout",
     "output_type": "stream",
     "text": [
      "Epoch: 1\n",
      "Epoch: 2\n",
      "Epoch: 3\n",
      "Epoch: 4\n",
      "Epoch: 5\n",
      "Epoch: 6\n",
      "Epoch: 7\n",
      "Epoch: 8\n",
      "Epoch: 9\n",
      "Epoch: 10\n",
      "Training Accuracy: 0.515, Validation Accuracy: 0.515, Training Loss: 0.485, Validation Loss: 0.693\n"
     ]
    },
    {
     "name": "stderr",
     "output_type": "stream",
     "text": [
      "Some weights of BertForSequenceClassification were not initialized from the model checkpoint at microsoft/MiniLM-L12-H384-uncased and are newly initialized: ['classifier.bias', 'classifier.weight']\n",
      "You should probably TRAIN this model on a down-stream task to be able to use it for predictions and inference.\n"
     ]
    },
    {
     "name": "stdout",
     "output_type": "stream",
     "text": [
      "Epoch: 1\n",
      "Epoch: 2\n",
      "Epoch: 3\n",
      "Epoch: 4\n",
      "Epoch: 5\n",
      "Epoch: 6\n",
      "Epoch: 7\n",
      "Epoch: 8\n",
      "Epoch: 9\n",
      "Epoch: 10\n",
      "Training Accuracy: 0.977, Validation Accuracy: 0.996, Training Loss: 0.023, Validation Loss: 0.030\n"
     ]
    },
    {
     "name": "stderr",
     "output_type": "stream",
     "text": [
      "Some weights of BertForSequenceClassification were not initialized from the model checkpoint at microsoft/MiniLM-L12-H384-uncased and are newly initialized: ['classifier.bias', 'classifier.weight']\n",
      "You should probably TRAIN this model on a down-stream task to be able to use it for predictions and inference.\n"
     ]
    },
    {
     "name": "stdout",
     "output_type": "stream",
     "text": [
      "Epoch: 1\n",
      "Epoch: 2\n",
      "Epoch: 3\n",
      "Epoch: 4\n",
      "Epoch: 5\n",
      "Epoch: 6\n",
      "Epoch: 7\n",
      "Epoch: 8\n",
      "Epoch: 9\n",
      "Epoch: 10\n",
      "Training Accuracy: 0.509, Validation Accuracy: 0.514, Training Loss: 0.491, Validation Loss: 0.693\n"
     ]
    },
    {
     "name": "stderr",
     "output_type": "stream",
     "text": [
      "Some weights of BertForSequenceClassification were not initialized from the model checkpoint at microsoft/MiniLM-L12-H384-uncased and are newly initialized: ['classifier.bias', 'classifier.weight']\n",
      "You should probably TRAIN this model on a down-stream task to be able to use it for predictions and inference.\n"
     ]
    },
    {
     "name": "stdout",
     "output_type": "stream",
     "text": [
      "Epoch: 1\n",
      "Epoch: 2\n",
      "Epoch: 3\n",
      "Epoch: 4\n",
      "Epoch: 5\n",
      "Epoch: 6\n",
      "Epoch: 7\n",
      "Epoch: 8\n",
      "Epoch: 9\n",
      "Epoch: 10\n",
      "Training Accuracy: 0.960, Validation Accuracy: 0.951, Training Loss: 0.040, Validation Loss: 0.123\n"
     ]
    },
    {
     "name": "stderr",
     "output_type": "stream",
     "text": [
      "Some weights of BertForSequenceClassification were not initialized from the model checkpoint at microsoft/MiniLM-L12-H384-uncased and are newly initialized: ['classifier.bias', 'classifier.weight']\n",
      "You should probably TRAIN this model on a down-stream task to be able to use it for predictions and inference.\n"
     ]
    },
    {
     "name": "stdout",
     "output_type": "stream",
     "text": [
      "Epoch: 1\n",
      "Epoch: 2\n",
      "Epoch: 3\n",
      "Epoch: 4\n",
      "Epoch: 5\n",
      "Epoch: 6\n",
      "Epoch: 7\n",
      "Epoch: 8\n",
      "Epoch: 9\n",
      "Epoch: 10\n",
      "Training Accuracy: 0.517, Validation Accuracy: 0.515, Training Loss: 0.483, Validation Loss: 0.693\n"
     ]
    },
    {
     "name": "stderr",
     "output_type": "stream",
     "text": [
      "Some weights of BertForSequenceClassification were not initialized from the model checkpoint at microsoft/MiniLM-L12-H384-uncased and are newly initialized: ['classifier.bias', 'classifier.weight']\n",
      "You should probably TRAIN this model on a down-stream task to be able to use it for predictions and inference.\n"
     ]
    },
    {
     "name": "stdout",
     "output_type": "stream",
     "text": [
      "Epoch: 1\n",
      "Epoch: 2\n",
      "Epoch: 3\n",
      "Epoch: 4\n",
      "Epoch: 5\n",
      "Epoch: 6\n",
      "Epoch: 7\n",
      "Epoch: 8\n",
      "Epoch: 9\n",
      "Epoch: 10\n",
      "Training Accuracy: 0.976, Validation Accuracy: 0.984, Training Loss: 0.024, Validation Loss: 0.050\n"
     ]
    },
    {
     "name": "stderr",
     "output_type": "stream",
     "text": [
      "Some weights of BertForSequenceClassification were not initialized from the model checkpoint at microsoft/MiniLM-L12-H384-uncased and are newly initialized: ['classifier.bias', 'classifier.weight']\n",
      "You should probably TRAIN this model on a down-stream task to be able to use it for predictions and inference.\n"
     ]
    },
    {
     "name": "stdout",
     "output_type": "stream",
     "text": [
      "Epoch: 1\n",
      "Epoch: 2\n",
      "Epoch: 3\n",
      "Epoch: 4\n",
      "Epoch: 5\n",
      "Epoch: 6\n",
      "Epoch: 7\n",
      "Epoch: 8\n",
      "Epoch: 9\n",
      "Epoch: 10\n",
      "Training Accuracy: 0.515, Validation Accuracy: 0.515, Training Loss: 0.485, Validation Loss: 0.692\n"
     ]
    }
   ],
   "source": [
    "import pandas as pd\n",
    "import numpy as np\n",
    "import torch\n",
    "from torch.utils.data import Dataset, DataLoader\n",
    "from transformers import AutoTokenizer, AutoModelForSequenceClassification, AdamW\n",
    "from transformers.utils import check_min_version\n",
    "\n",
    "# Ensure transformers version 4.6.0 or higher\n",
    "check_min_version(\"4.6.0\")\n",
    "\n",
    "# Define Dataset Class\n",
    "class CustomDataset(Dataset):\n",
    "    def __init__(self, tokenizer, sentences, labels):\n",
    "        self.encodings = tokenizer(sentences, padding=True, truncation=True, return_tensors=\"pt\")\n",
    "        self.labels = labels\n",
    "\n",
    "    def __getitem__(self, idx):\n",
    "        item = {key: val[idx] for key, val in self.encodings.items()}\n",
    "        item['labels'] = torch.tensor(self.labels[idx])\n",
    "        return item\n",
    "\n",
    "    def __len__(self):\n",
    "        return len(self.labels)\n",
    "\n",
    "# Load Dataframe\n",
    "df = df_d2.sample(frac=0.05)\n",
    "\n",
    "# Load Pretrained MiniLM Model\n",
    "model_name = 'microsoft/MiniLM-L12-H384-uncased'\n",
    "tokenizer = AutoTokenizer.from_pretrained(model_name)\n",
    "model = AutoModelForSequenceClassification.from_pretrained(model_name, num_labels=2)\n",
    "\n",
    "# Convert Labels to Long Type\n",
    "labels = df['value'].astype(int).values.astype(np.int64)\n",
    "\n",
    "# Tokenize Sentences and Form Dataset\n",
    "sentences = [f\"{row.A} {row.B} {row.C} {row.D}\" for _, row in df.iterrows()]\n",
    "dataset = CustomDataset(tokenizer, sentences, labels)\n",
    "\n",
    "# DataLoader\n",
    "dataloader = DataLoader(dataset, batch_size=8, shuffle=True)\n",
    "\n",
    "# Define a dictionary to store the best parameters\n",
    "best_params_lm = {\n",
    "    'learning_rate': None,\n",
    "    'batch_size': None,\n",
    "    'optimizer': None,\n",
    "    'validation_accuracy': 0.0\n",
    "}\n",
    "\n",
    "# Define a list to store validation accuracies for different parameter combinations\n",
    "val_acc_list = []\n",
    "\n",
    "# Define the parameter search space\n",
    "learning_rates = [ 1e-5, 1e-4]\n",
    "batch_sizes = [16, 32]\n",
    "optimizers = ['Adam', 'SGD']\n",
    "\n",
    "# Perform parameter search\n",
    "for lr in learning_rates:\n",
    "    for batch_size in batch_sizes:\n",
    "        for optimizer_name in optimizers:\n",
    "            # Create a new instance of the MiniLM Model\n",
    "            model = AutoModelForSequenceClassification.from_pretrained(model_name, num_labels=2)\n",
    "            device = torch.device('cuda' if torch.cuda.is_available() else 'cpu')\n",
    "            model.to(device)\n",
    "\n",
    "            # Define Optimizer based on the current parameter combination\n",
    "            if optimizer_name == 'AdamW':\n",
    "                optimizer = AdamW(model.parameters(), lr=lr)\n",
    "            elif optimizer_name == 'Adam':\n",
    "                optimizer = torch.optim.Adam(model.parameters(), lr=lr)\n",
    "            elif optimizer_name == 'SGD':\n",
    "                optimizer = torch.optim.SGD(model.parameters(), lr=lr)\n",
    "\n",
    "            # DataLoader\n",
    "            dataloader = DataLoader(dataset, batch_size=batch_size, shuffle=True)\n",
    "\n",
    "            # Training Loop\n",
    "            train_acc_lm = []\n",
    "            val_acc_lm = []\n",
    "            train_loss_lm = []\n",
    "            val_loss_lm = []\n",
    "\n",
    "            for epoch in range(n_epochs):\n",
    "                print(f\"Epoch: {epoch+1}\")\n",
    "                model.train()\n",
    "                total_correct = 0\n",
    "                total_samples = 0\n",
    "\n",
    "                for batch in dataloader:\n",
    "                    # Fetch Input-Output Batch and Move to GPU\n",
    "                    inputs = {'input_ids': batch['input_ids'].to(device),\n",
    "                              'attention_mask': batch['attention_mask'].to(device)}\n",
    "                    labels = batch['labels'].to(device)\n",
    "\n",
    "                    # Clear Gradients and Compute Output\n",
    "                    optimizer.zero_grad()\n",
    "                    outputs = model(**inputs, labels=labels)\n",
    "\n",
    "                    # Compute Loss and Backpropagate\n",
    "                    loss = outputs.loss\n",
    "                    loss.backward()\n",
    "                    optimizer.step()\n",
    "\n",
    "                    # Calculate training accuracy\n",
    "                    predictions = torch.argmax(outputs.logits, dim=1)\n",
    "                    total_correct += (predictions == labels).sum().item()\n",
    "                    total_samples += len(labels)\n",
    "\n",
    "                training_accuracy = total_correct / total_samples\n",
    "\n",
    "                training_loss = 1 - training_accuracy\n",
    "\n",
    "                # Evaluate Model at end of Epoch\n",
    "                model.eval()\n",
    "                with torch.no_grad():\n",
    "                    val_loss = 0\n",
    "                    val_correct = 0\n",
    "                    val_total = 0\n",
    "\n",
    "                    for batch in dataloader:\n",
    "                        inputs = {'input_ids': batch['input_ids'].to(device),\n",
    "                                  'attention_mask': batch['attention_mask'].to(device)}\n",
    "                        labels = batch['labels'].to(device)\n",
    "\n",
    "                        outputs = model(**inputs, labels=labels)\n",
    "                        val_loss += outputs.loss.item() * len(labels)\n",
    "                        val_correct += (torch.argmax(outputs.logits, dim=1) == labels).sum().item()\n",
    "                        val_total += len(labels)\n",
    "\n",
    "                    validation_accuracy = val_correct / val_total\n",
    "                    validation_loss = val_loss / val_total\n",
    "\n",
    "                    # Store the best parameters based on validation accuracy\n",
    "                    if validation_accuracy > best_params['validation_accuracy']:\n",
    "                        best_params['learning_rate'] = lr\n",
    "                        best_params['batch_size'] = batch_size\n",
    "                        best_params['optimizer'] = optimizer_name\n",
    "                        best_params['validation_accuracy'] = validation_accuracy\n",
    "\n",
    "\n",
    "            print(f\"Training Accuracy: {training_accuracy:.3f}, Validation Accuracy: {validation_accuracy:.3f}, \"\n",
    "                  f\"Training Loss: {training_loss:.3f}, Validation Loss: {(validation_loss):.3f}\")\n",
    "\n"
   ]
  },
  {
   "cell_type": "code",
   "execution_count": 25,
   "id": "6eb971b0-8808-4478-b3e4-a4fb22ed6ec8",
   "metadata": {
    "tags": []
   },
   "outputs": [
    {
     "name": "stdout",
     "output_type": "stream",
     "text": [
      "Best Parameters of MiniLM:\n",
      "Learning Rate: 1e-05\n",
      "Batch size: 32\n",
      "Optimizer: Adam\n"
     ]
    }
   ],
   "source": [
    "# Print the best parameters\n",
    "print('Best Parameters of MiniLM:')\n",
    "print('Learning Rate:', best_params['learning_rate'])\n",
    "print('Batch size:', best_params['batch_size'])\n",
    "print('Optimizer:', best_params['optimizer'])\n",
    "print('Optimizer:', best_params['validation_accuracy'])"
   ]
  },
  {
   "cell_type": "markdown",
   "id": "fa261897-ca76-49ff-9c02-b41a75ae5a6e",
   "metadata": {},
   "source": [
    "# MiniLM with Best Parameters"
   ]
  },
  {
   "cell_type": "code",
   "execution_count": 27,
   "id": "e2d058d0-282d-4f79-bbc5-df78a855610f",
   "metadata": {
    "tags": []
   },
   "outputs": [
    {
     "name": "stderr",
     "output_type": "stream",
     "text": [
      "Some weights of BertForSequenceClassification were not initialized from the model checkpoint at microsoft/MiniLM-L12-H384-uncased and are newly initialized: ['classifier.bias', 'classifier.weight']\n",
      "You should probably TRAIN this model on a down-stream task to be able to use it for predictions and inference.\n",
      "Asking to truncate to max_length but no maximum length is provided and the model has no predefined maximum length. Default to no truncation.\n"
     ]
    },
    {
     "name": "stdout",
     "output_type": "stream",
     "text": [
      "Epoch: 1\n",
      "Training Accuracy: 0.525, Validation Accuracy: 0.572, Training Loss: 0.475, Validation Loss: 0.690\n",
      "Epoch: 2\n",
      "Training Accuracy: 0.612, Validation Accuracy: 0.739, Training Loss: 0.388, Validation Loss: 0.604\n",
      "Epoch: 3\n",
      "Training Accuracy: 0.745, Validation Accuracy: 0.860, Training Loss: 0.255, Validation Loss: 0.390\n",
      "Epoch: 4\n",
      "Training Accuracy: 0.840, Validation Accuracy: 0.922, Training Loss: 0.160, Validation Loss: 0.253\n",
      "Epoch: 5\n",
      "Training Accuracy: 0.893, Validation Accuracy: 0.959, Training Loss: 0.107, Validation Loss: 0.160\n",
      "Epoch: 6\n",
      "Training Accuracy: 0.932, Validation Accuracy: 0.970, Training Loss: 0.068, Validation Loss: 0.113\n",
      "Epoch: 7\n",
      "Training Accuracy: 0.957, Validation Accuracy: 0.983, Training Loss: 0.043, Validation Loss: 0.072\n",
      "Epoch: 8\n",
      "Training Accuracy: 0.969, Validation Accuracy: 0.993, Training Loss: 0.031, Validation Loss: 0.045\n",
      "Epoch: 9\n",
      "Training Accuracy: 0.969, Validation Accuracy: 0.986, Training Loss: 0.031, Validation Loss: 0.052\n",
      "Epoch: 10\n",
      "Training Accuracy: 0.969, Validation Accuracy: 0.995, Training Loss: 0.031, Validation Loss: 0.031\n"
     ]
    }
   ],
   "source": [
    "import pandas as pd\n",
    "import numpy as np\n",
    "import torch\n",
    "from torch.utils.data import Dataset, DataLoader\n",
    "from transformers import AutoTokenizer, AutoModelForSequenceClassification, AdamW\n",
    "from transformers.utils import check_min_version\n",
    "\n",
    "# Ensure transformers version 4.6.0 or higher\n",
    "check_min_version(\"4.6.0\")\n",
    "\n",
    "# Define Dataset Class\n",
    "class CustomDataset(Dataset):\n",
    "    def __init__(self, tokenizer, sentences, labels):\n",
    "        self.encodings = tokenizer(sentences, padding=True, truncation=True, return_tensors=\"pt\")\n",
    "        self.labels = labels\n",
    "\n",
    "    def __getitem__(self, idx):\n",
    "        item = {key: val[idx] for key, val in self.encodings.items()}\n",
    "        item['labels'] = torch.tensor(self.labels[idx])\n",
    "        return item\n",
    "\n",
    "    def __len__(self):\n",
    "        return len(self.labels)\n",
    "\n",
    "# Load Dataframe\n",
    "df = df_d2.sample(frac=0.05)\n",
    "\n",
    "# Load Pretrained MiniLM Model\n",
    "model_name = 'microsoft/MiniLM-L12-H384-uncased'\n",
    "tokenizer = AutoTokenizer.from_pretrained(model_name)\n",
    "model = AutoModelForSequenceClassification.from_pretrained(model_name, num_labels=2)\n",
    "\n",
    "# Convert Labels to Long Type\n",
    "labels = df['value'].astype(int).values.astype(np.int64)\n",
    "\n",
    "# Tokenize Sentences and Form Dataset\n",
    "sentences = [f\"{row.A} {row.B} {row.C} {row.D}\" for _, row in df.iterrows()]\n",
    "dataset = CustomDataset(tokenizer, sentences, labels)\n",
    "\n",
    "# Define the best parameters\n",
    "best_params = {\n",
    "    'learning_rate': 1e-5,\n",
    "    'batch_size': 32,\n",
    "    'optimizer': 'Adam',\n",
    "    'validation_accuracy': 0.0\n",
    "}\n",
    "\n",
    "# Set the best parameters\n",
    "lr = best_params['learning_rate']\n",
    "batch_size = best_params['batch_size']\n",
    "optimizer_name = best_params['optimizer']\n",
    "\n",
    "# Define Optimizer based on the best parameters\n",
    "if optimizer_name == 'AdamW':\n",
    "    optimizer = AdamW(model.parameters(), lr=lr)\n",
    "elif optimizer_name == 'Adam':\n",
    "    optimizer = torch.optim.Adam(model.parameters(), lr=lr)\n",
    "elif optimizer_name == 'SGD':\n",
    "    optimizer = torch.optim.SGD(model.parameters(), lr=lr)\n",
    "\n",
    "# DataLoader\n",
    "dataloader = DataLoader(dataset, batch_size=batch_size, shuffle=True)\n",
    "\n",
    "device = torch.device('cuda' if torch.cuda.is_available() else 'cpu')\n",
    "model.to(device)\n",
    "\n",
    "n_epochs = 10\n",
    "\n",
    "# Training Loop\n",
    "train_acc_blm = []\n",
    "val_acc_blm = []\n",
    "train_loss_blm = []\n",
    "val_loss_blm = []\n",
    "\n",
    "for epoch in range(n_epochs):\n",
    "    print(f\"Epoch: {epoch+1}\")\n",
    "    model.train()\n",
    "    total_correct = 0\n",
    "    total_samples = 0\n",
    "\n",
    "    for batch in dataloader:\n",
    "        # Fetch Input-Output Batch and Move to GPU\n",
    "        inputs = {'input_ids': batch['input_ids'].to(device),\n",
    "                  'attention_mask': batch['attention_mask'].to(device)}\n",
    "        labels = batch['labels'].to(device)\n",
    "\n",
    "        # Clear Gradients and Compute Output\n",
    "        optimizer.zero_grad()\n",
    "        outputs = model(**inputs, labels=labels)\n",
    "\n",
    "        # Compute Loss and Backpropagate\n",
    "        loss = outputs.loss\n",
    "        loss.backward()\n",
    "        optimizer.step()\n",
    "\n",
    "        # Calculate training accuracy\n",
    "        predictions = torch.argmax(outputs.logits, dim=1)\n",
    "        total_correct += (predictions == labels).sum().item()\n",
    "        total_samples += len(labels)\n",
    "\n",
    "    training_accuracy = total_correct / total_samples\n",
    "    train_acc_blm.append(training_accuracy)\n",
    "    training_loss = 1 - training_accuracy\n",
    "    train_loss_blm.append(training_loss)\n",
    "\n",
    "    # Evaluate Model at end of Epoch\n",
    "    model.eval()\n",
    "    with torch.no_grad():\n",
    "        val_loss = 0\n",
    "        val_correct = 0\n",
    "        val_total = 0\n",
    "\n",
    "        for batch in dataloader:\n",
    "            inputs = {'input_ids': batch['input_ids'].to(device),\n",
    "                      'attention_mask': batch['attention_mask'].to(device)}\n",
    "            labels = batch['labels'].to(device)\n",
    "\n",
    "            outputs = model(**inputs, labels=labels)\n",
    "            val_loss += outputs.loss.item() * len(labels)\n",
    "            val_correct += (torch.argmax(outputs.logits, dim=1) == labels).sum().item()\n",
    "            val_total += len(labels)\n",
    "\n",
    "        validation_accuracy = val_correct / val_total\n",
    "        validation_loss = val_loss / val_total\n",
    "\n",
    "        val_acc_blm.append(validation_accuracy)\n",
    "        val_loss_blm.append(validation_loss)\n",
    "\n",
    "    print(f\"Training Accuracy: {training_accuracy:.3f}, Validation Accuracy: {validation_accuracy:.3f}, \"\n",
    "          f\"Training Loss: {training_loss:.3f}, Validation Loss: {validation_loss:.3f}\")\n"
   ]
  },
  {
   "cell_type": "markdown",
   "id": "5a6d400a-bd37-41e4-909c-6908b4041824",
   "metadata": {},
   "source": [
    "## Try"
   ]
  },
  {
   "cell_type": "markdown",
   "id": "984e071a-da5a-4227-a40d-60189aeda269",
   "metadata": {},
   "source": [
    "### Graphs"
   ]
  },
  {
   "cell_type": "code",
   "execution_count": 29,
   "id": "656b134c-2f70-4299-8b1f-4d59d3b4a01b",
   "metadata": {
    "tags": []
   },
   "outputs": [
    {
     "data": {
      "image/png": "[encoded data removed]",
      "text/plain": [
       "<Figure size 864x720 with 2 Axes>"
      ]
     },
     "metadata": {},
     "output_type": "display_data"
    }
   ],
   "source": [
    "epochs = range(1, len(train_acc_blm) + 1)\n",
    "plt.figure(figsize=(12, 10))\n",
    "plt.subplot(2,2,1)\n",
    "plt.plot(epochs, train_acc_blm, label='Training Accuracy')\n",
    "plt.plot(epochs, val_acc_blm, label='Validation Accuracy')\n",
    "plt.title('Training and Validation Accuracy (Best_MiniLM)')\n",
    "plt.xlabel('Epochs')\n",
    "plt.ylabel('Accuracy')\n",
    "plt.legend()\n",
    "plt.subplot(2,2,2)\n",
    "plt.plot(epochs, train_loss_blm, label='Training Loss')\n",
    "plt.plot(epochs, val_loss_blm, label='Validation Loss')\n",
    "plt.title('Training and Validation Loss (Best_MiniLM)')\n",
    "plt.xlabel('Epochs')\n",
    "plt.ylabel('Accuracy')\n",
    "plt.legend() \n",
    "plt.tight_layout()"
   ]
  },
  {
   "cell_type": "markdown",
   "id": "d1f5752d-bb49-4eac-ac65-8ba3a7eb3a99",
   "metadata": {},
   "source": [
    "# Models Comparison"
   ]
  },
  {
   "cell_type": "code",
   "execution_count": 37,
   "id": "f582be6b-3d76-4ec9-be0a-aa3166bf8ea4",
   "metadata": {
    "tags": []
   },
   "outputs": [
    {
     "data": {
      "text/html": [
       "<div>\n",
       "<style scoped>\n",
       "    .dataframe tbody tr th:only-of-type {\n",
       "        vertical-align: middle;\n",
       "    }\n",
       "\n",
       "    .dataframe tbody tr th {\n",
       "        vertical-align: top;\n",
       "    }\n",
       "\n",
       "    .dataframe thead th {\n",
       "        text-align: right;\n",
       "    }\n",
       "</style>\n",
       "<table border=\"1\" class=\"dataframe\">\n",
       "  <thead>\n",
       "    <tr style=\"text-align: right;\">\n",
       "      <th></th>\n",
       "      <th>Models</th>\n",
       "      <th>Validation accuracy</th>\n",
       "      <th>Validation losses</th>\n",
       "    </tr>\n",
       "  </thead>\n",
       "  <tbody>\n",
       "    <tr>\n",
       "      <th>0</th>\n",
       "      <td>SBERT</td>\n",
       "      <td>0.551170</td>\n",
       "      <td>0.686623</td>\n",
       "    </tr>\n",
       "    <tr>\n",
       "      <th>1</th>\n",
       "      <td>MiniLM</td>\n",
       "      <td>0.578457</td>\n",
       "      <td>0.421543</td>\n",
       "    </tr>\n",
       "    <tr>\n",
       "      <th>2</th>\n",
       "      <td>Best_SBERT</td>\n",
       "      <td>0.551802</td>\n",
       "      <td>0.685395</td>\n",
       "    </tr>\n",
       "    <tr>\n",
       "      <th>3</th>\n",
       "      <td>Best_MiniLM</td>\n",
       "      <td>0.995346</td>\n",
       "      <td>0.031219</td>\n",
       "    </tr>\n",
       "  </tbody>\n",
       "</table>\n",
       "</div>"
      ],
      "text/plain": [
       "        Models  Validation accuracy  Validation losses\n",
       "0        SBERT             0.551170           0.686623\n",
       "1       MiniLM             0.578457           0.421543\n",
       "2   Best_SBERT             0.551802           0.685395\n",
       "3  Best_MiniLM             0.995346           0.031219"
      ]
     },
     "execution_count": 37,
     "metadata": {},
     "output_type": "execute_result"
    }
   ],
   "source": [
    "tables = {'Models': ['SBERT', 'MiniLM', 'Fine tuned_SBERT', 'Best_MiniLM'],\n",
    "         'Validation accuracy': [val_acc_bert[-1], val_acc_lm[-1], val_acc_bbert[-1], val_acc_blm[-1]],\n",
    "         'Validation losses': [val_loss_bert[-1], val_loss_lm[-1], val_loss_bbert[-1], val_loss_blm[-1]]}\n",
    "comparison = pd.DataFrame(tables)\n",
    "comparison.head()"
   ]
  },
  {
   "cell_type": "code",
   "execution_count": null,
   "id": "1ae272d8-4e6e-463b-a829-88a9465c2706",
   "metadata": {},
   "outputs": [],
   "source": []
  }
 ],
 "metadata": {
  "kernelspec": {
   "display_name": "Python 3 (ipykernel)",
   "language": "python",
   "name": "python3"
  },
  "language_info": {
   "codemirror_mode": {
    "name": "ipython",
    "version": 3
   },
   "file_extension": ".py",
   "mimetype": "text/x-python",
   "name": "python",
   "nbconvert_exporter": "python",
   "pygments_lexer": "ipython3",
   "version": "3.7.13"
  }
 },
 "nbformat": 4,
 "nbformat_minor": 5
}
